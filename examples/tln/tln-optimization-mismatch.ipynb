{
 "cells": [
  {
   "cell_type": "markdown",
   "source": [
    "# Optimization of TLN using differentiable simulation - with mismatch"
   ],
   "metadata": {
    "collapsed": false
   },
   "id": "b32b8c7fff471cbf"
  },
  {
   "cell_type": "code",
   "execution_count": null,
   "id": "initial_id",
   "metadata": {
    "collapsed": true,
    "is_executing": true
   },
   "outputs": [],
   "source": [
    "%load_ext autoreload\n",
    "%autoreload 2"
   ]
  },
  {
   "cell_type": "code",
   "execution_count": null,
   "outputs": [],
   "source": [
    "# Library imports\n",
    "import numpy as np\n",
    "import matplotlib as mpl\n",
    "mpl.rcParams['text.usetex'] = False\n",
    "import matplotlib.pyplot as plt\n",
    "\n",
    "from jax import config\n",
    "config.update(\"jax_enable_x64\", True)\n",
    "\n",
    "import jax\n",
    "import jax.numpy as jnp\n",
    "import jax.random as jrandom\n",
    "import equinox as eqx\n",
    "import diffrax as dr\n",
    "import sympy as sp\n",
    "\n",
    "from typing import Dict"
   ],
   "metadata": {
    "collapsed": false,
    "is_executing": true
   },
   "id": "cc0e715bc9aefda4"
  },
  {
   "cell_type": "code",
   "execution_count": null,
   "outputs": [],
   "source": [
    "# Local imports\n",
    "from ark.cdg.cdg import CDG, CDGNode\n",
    "from ark.compiler import ArkCompiler\n",
    "from ark.rewrite import RewriteGen, SympyRewriteGen\n",
    "from ark.solver import SMTSolver\n",
    "from ark.specification.cdg_types import NodeType, EdgeType\n",
    "from ark.validator import ArkValidator\n",
    "from spec import pulse_sympy\n",
    "from tln_example import create_tline_branch, IdealV, IdealI, IdealE"
   ],
   "metadata": {
    "collapsed": false,
    "is_executing": true
   },
   "id": "19a55c99cda2ff73"
  },
  {
   "cell_type": "markdown",
   "source": [
    "## Generate a TLN graph from specification"
   ],
   "metadata": {
    "collapsed": false
   },
   "id": "295e07375ef77dd6"
  },
  {
   "cell_type": "code",
   "execution_count": null,
   "outputs": [],
   "source": [
    "from examples.tln.tln_example import make_full_graph\n",
    "\n",
    "branch_args = {\n",
    "    \"line_len\": 4,\n",
    "    \"branch_stride\": 4,\n",
    "    \"branches_per_node\": 0,\n",
    "    \"branch_len\": 4,\n",
    "    \"branch_offset\": 0,\n",
    "}\n",
    "\n",
    "# itl_small_graph, _, _ = create_tline_branch(\n",
    "#     IdealV, IdealI, lambda: IdealE(), **branch_args\n",
    "# )\n",
    "# itl_small_graph\n",
    "graph, spec = make_full_graph(mismatch=True,\n",
    "                              branch_args_override=branch_args)\n",
    "\n",
    "from ark.visualize.graphviz_gen import cdg_to_graphviz_display\n",
    "cdg_to_graphviz_display(cdg_lang=spec, cdg=graph)"
   ],
   "metadata": {
    "collapsed": false,
    "is_executing": true
   },
   "id": "947b1668103ad7f7"
  },
  {
   "cell_type": "markdown",
   "source": [
    "Now we have a graph with representing the TLN with certain arguments, and can compile it to SymPy expressions."
   ],
   "metadata": {
    "collapsed": false
   },
   "id": "ca8ed59229bc9ee6"
  },
  {
   "cell_type": "code",
   "execution_count": null,
   "outputs": [],
   "source": [
    "compiler = ArkCompiler(rewrite=SympyRewriteGen())\n",
    "sympy_pairs = compiler.compile_sympy(cdg=graph, cdg_spec=spec, help_fn=[])"
   ],
   "metadata": {
    "collapsed": false,
    "is_executing": true
   },
   "id": "4b89a1d766a422bc"
  },
  {
   "cell_type": "code",
   "execution_count": null,
   "outputs": [],
   "source": [
    "sympy_pairs"
   ],
   "metadata": {
    "collapsed": false,
    "is_executing": true
   },
   "id": "cc5cc25b3db7ada6"
  },
  {
   "cell_type": "markdown",
   "source": [
    "We can now convert these into a set of differential equations, using some amount of parsing."
   ],
   "metadata": {
    "collapsed": false
   },
   "id": "505d0f9a84b1fa28"
  },
  {
   "cell_type": "code",
   "execution_count": null,
   "outputs": [],
   "source": [
    "def collapse_derivative(pair: tuple[sp.Symbol, sp.Expr]) -> sp.Eq:\n",
    "    \"\"\"Turns tuple of derivative + sympy expression into a single sympy equation.\"\"\"\n",
    "    if (var_name := pair[0].name).startswith('ddt_'):\n",
    "        symbol = sp.symbols(var_name[4:])\n",
    "        equation = sp.Eq(sp.Derivative(symbol, sp.symbols('time')), pair[1])\n",
    "        return equation.subs(sp.symbols('time'), sp.symbols('t'))\n",
    "    else:\n",
    "        raise ValueError(\"Not a derivative expression.\")\n",
    "sympy_eqs = [collapse_derivative(pair) for pair in sympy_pairs]\n",
    "sympy_eqs"
   ],
   "metadata": {
    "collapsed": false,
    "is_executing": true
   },
   "id": "7035cc35172255b9"
  },
  {
   "cell_type": "markdown",
   "source": [
    "Now we need to substitute the forcing function `InpI_0_fn` into a pulse function (a piecewise function defined in SymPy)."
   ],
   "metadata": {
    "collapsed": false
   },
   "id": "43e003bad1eb6346"
  },
  {
   "cell_type": "code",
   "execution_count": null,
   "outputs": [],
   "source": [
    "t = sp.symbols('t')\n",
    "InpI_0_fn = sp.Function('InpI_0_fn')\n",
    "replaced_function = sympy_eqs[0].subs(InpI_0_fn(t), pulse_sympy(t))\n",
    "replaced_function"
   ],
   "metadata": {
    "collapsed": false,
    "is_executing": true
   },
   "id": "2d26f9a03f36d817"
  },
  {
   "cell_type": "code",
   "execution_count": null,
   "outputs": [],
   "source": [
    "sympy_eqs_expanded = [replaced_function if i == 0 else f for i, f in enumerate(sympy_eqs)]"
   ],
   "metadata": {
    "collapsed": false,
    "is_executing": true
   },
   "id": "6c3081d0d1bcf0d2"
  },
  {
   "cell_type": "code",
   "execution_count": null,
   "outputs": [],
   "source": [
    "sympy_eqs_expanded"
   ],
   "metadata": {
    "collapsed": false,
    "is_executing": true
   },
   "id": "5bbcb5a235ec7f57"
  },
  {
   "cell_type": "code",
   "execution_count": null,
   "outputs": [],
   "source": [
    "# Find all the LHS variables in the set of equations\n",
    "lhs_vars = [list(eq.lhs.free_symbols)[0] for eq in sympy_eqs_expanded]\n",
    "lhs_vars"
   ],
   "metadata": {
    "collapsed": false,
    "is_executing": true
   },
   "id": "e55c3b0df6a529e0"
  },
  {
   "cell_type": "code",
   "execution_count": null,
   "outputs": [],
   "source": [
    "# Figure out which parameters are necessary to evaluate the equations\n",
    "param_vars = [eq.free_symbols - set(lhs_vars) for eq in sympy_eqs_expanded]\n",
    "all_param_vars = set().union(*param_vars)\n",
    "all_param_vars.remove(sp.symbols('t'))\n",
    "del param_vars\n",
    "print(f'All parameters:\\n{\", \".join(map(str, all_param_vars))}')"
   ],
   "metadata": {
    "collapsed": false,
    "is_executing": true
   },
   "id": "52d742c3f42278df"
  },
  {
   "cell_type": "code",
   "execution_count": null,
   "outputs": [],
   "source": [
    "# Now we gather the parameters necessary from the respective nodes in the graph\n",
    "def get_param_from_dict(param_name: str) -> float:\n",
    "    element_name = '_'.join(param_name.split('_')[:-1])\n",
    "    param_name = param_name.split('_')[-1]\n",
    "    return graph_param_dict[element_name][param_name]\n",
    "\n",
    "# Collect all node parameters into a dictionary with dictionary values\n",
    "node_param_dict = {node.name: node.attrs for node in graph.nodes}\n",
    "edge_param_dict = {edge.name: edge.attrs for edge in graph.edges}\n",
    "graph_param_dict = node_param_dict | edge_param_dict\n",
    "\n",
    "# Gather all necessary parameters in a flat dictionary\n",
    "param_dict = {k: get_param_from_dict(k.name) for k in all_param_vars}\n",
    "param_dict"
   ],
   "metadata": {
    "collapsed": false,
    "is_executing": true
   },
   "id": "ce627eeea52070b3"
  },
  {
   "cell_type": "code",
   "execution_count": null,
   "outputs": [],
   "source": [
    "# Gather initial values for the LHS variables\n",
    "# TODO(marcelroed): Currently all at zero -- should this change?\n",
    "lhs_init_dict = {k: 0.0 for k in lhs_vars}"
   ],
   "metadata": {
    "collapsed": false,
    "is_executing": true
   },
   "id": "3c926feffc327486"
  },
  {
   "cell_type": "markdown",
   "source": [
    "### Reminder of relevant variables"
   ],
   "metadata": {
    "collapsed": false
   },
   "id": "815597a66fe1e97a"
  },
  {
   "cell_type": "code",
   "execution_count": null,
   "outputs": [],
   "source": [
    "display(sympy_eqs_expanded)  # List of all equations defining the system\n",
    "display(lhs_vars)  # Names of all left-hand side variables\n",
    "display(param_dict)  # Mapping of all parameters to be simulated -- are what we want sensitivities for"
   ],
   "metadata": {
    "collapsed": false,
    "is_executing": true
   },
   "id": "8781456e33c20426"
  },
  {
   "cell_type": "markdown",
   "source": [
    "## Defining the DiffEQ solve function\n"
   ],
   "metadata": {
    "collapsed": false
   },
   "id": "a7585a63a50851ac"
  },
  {
   "cell_type": "code",
   "execution_count": null,
   "outputs": [],
   "source": [
    "def keys_to_str(d: dict) -> dict:\n",
    "    return {str(k): v for k, v in d.items()}\n",
    "keys_to_str(lhs_init_dict)"
   ],
   "metadata": {
    "collapsed": false,
    "is_executing": true
   },
   "id": "1e275ba30a50032a"
  },
  {
   "cell_type": "code",
   "execution_count": null,
   "outputs": [],
   "source": [
    "def lambdify_evaluate(expr: sp.Expr, vec_values: dict, parameter_values: dict) -> jax.Array:\n",
    "    \"\"\"Lambdifies a sympy equation and evaluates it with the given parameter values.\"\"\"\n",
    "    # Lambdify the equation\n",
    "    free_symbols = list(expr.free_symbols)\n",
    "    lambdified_eq = sp.lambdify(free_symbols, expr=expr, modules='jax')\n",
    "    # Evaluate the equation\n",
    "    evaluation_parameters = {k: parameter_values[k] if k in parameter_values else vec_values[k] for k in map(str, free_symbols)}\n",
    "    return lambdified_eq(**evaluation_parameters)\n",
    "\n",
    "@eqx.filter_jit\n",
    "def solve_system(initial_values: Dict[str, float], parameter_values: Dict[str, float], saveat: dr.SaveAt) -> dict:\n",
    "    initial_y = jnp.array([initial_values[k] for k in map(str, lhs_vars)])\n",
    "    def f(t, y, args: dict):\n",
    "        # Loop through and lambdify all equations\n",
    "        vec_values = {k: y[i] for i, k in enumerate(map(str, lhs_vars))}\n",
    "        args_with_t = {**args, 't': t}\n",
    "        return jnp.array([lambdify_evaluate(expr=eq.rhs, vec_values=vec_values, parameter_values=args_with_t) for eq in sympy_eqs_expanded])\n",
    "    \n",
    "    term = dr.ODETerm(f)\n",
    "    solver = dr.Tsit5()\n",
    "    system_solution = dr.diffeqsolve(terms=term, solver=solver, t0=0.0, t1=75e-9, dt0=1e-13, y0=initial_y,\n",
    "                                     args=parameter_values, saveat=saveat, max_steps=1_000_000)\n",
    "    return system_solution\n",
    "\n",
    "solution = solve_system(initial_values=keys_to_str(lhs_init_dict), parameter_values=keys_to_str(param_dict), saveat=dr.SaveAt(steps=True))\n",
    "display(solution)\n",
    "display(solution.stats)\n",
    "jax.block_until_ready(solution.ys)\n",
    "print('Finished getting solution!')\n",
    "plt.plot(solution.ts, solution.ys)\n",
    "plt.legend(lhs_vars)\n",
    "plt.show()\n",
    "plt.plot(solution.ts, sp.lambdify(sp.symbols('t'), pulse_sympy(sp.symbols('t')))(solution.ts))\n",
    "plt.show()"
   ],
   "metadata": {
    "collapsed": false,
    "is_executing": true
   },
   "id": "9d79390d9e0ea6b"
  },
  {
   "cell_type": "code",
   "execution_count": null,
   "outputs": [],
   "source": [
    "solution.ts"
   ],
   "metadata": {
    "collapsed": false,
    "is_executing": true
   },
   "id": "93d8f2f65d91f621"
  }
 ],
 "metadata": {
  "kernelspec": {
   "display_name": "Python 3",
   "language": "python",
   "name": "python3"
  },
  "language_info": {
   "codemirror_mode": {
    "name": "ipython",
    "version": 2
   },
   "file_extension": ".py",
   "mimetype": "text/x-python",
   "name": "python",
   "nbconvert_exporter": "python",
   "pygments_lexer": "ipython2",
   "version": "2.7.6"
  }
 },
 "nbformat": 4,
 "nbformat_minor": 5
}
